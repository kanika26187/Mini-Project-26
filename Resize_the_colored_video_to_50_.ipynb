{
  "nbformat": 4,
  "nbformat_minor": 0,
  "metadata": {
    "colab": {
      "provenance": [],
      "authorship_tag": "ABX9TyMAgR2gmfdQw9URqxcr8ysu",
      "include_colab_link": true
    },
    "kernelspec": {
      "name": "python3",
      "display_name": "Python 3"
    },
    "language_info": {
      "name": "python"
    }
  },
  "cells": [
    {
      "cell_type": "markdown",
      "metadata": {
        "id": "view-in-github",
        "colab_type": "text"
      },
      "source": [
        "<a href=\"https://colab.research.google.com/github/kanika26187/Resize-the-Colored-Video-to-50-smaller-/blob/main/Resize_the_colored_video_to_50_.ipynb\" target=\"_parent\"><img src=\"https://colab.research.google.com/assets/colab-badge.svg\" alt=\"Open In Colab\"/></a>"
      ]
    },
    {
      "cell_type": "code",
      "source": [
        "!pip install yt-dlp opencv-python"
      ],
      "metadata": {
        "id": "daJpoJCHZ1dj",
        "colab": {
          "base_uri": "https://localhost:8080/"
        },
        "outputId": "81959cc4-67da-4a72-91c2-43f0a8c56f9b"
      },
      "execution_count": 1,
      "outputs": [
        {
          "output_type": "stream",
          "name": "stdout",
          "text": [
            "Collecting yt-dlp\n",
            "  Downloading yt_dlp-2025.6.25-py3-none-any.whl.metadata (174 kB)\n",
            "\u001b[?25l     \u001b[90m━━━━━━━━━━━━━━━━━━━━━━━━━━━━━━━━━━━━━━━━\u001b[0m \u001b[32m0.0/174.3 kB\u001b[0m \u001b[31m?\u001b[0m eta \u001b[36m-:--:--\u001b[0m\r\u001b[2K     \u001b[91m━━━━━━━━━━━━━━━━━━━━━━━━━━━━━━━━━━━━━━\u001b[0m\u001b[91m╸\u001b[0m \u001b[32m174.1/174.3 kB\u001b[0m \u001b[31m5.2 MB/s\u001b[0m eta \u001b[36m0:00:01\u001b[0m\r\u001b[2K     \u001b[90m━━━━━━━━━━━━━━━━━━━━━━━━━━━━━━━━━━━━━━━\u001b[0m \u001b[32m174.3/174.3 kB\u001b[0m \u001b[31m3.4 MB/s\u001b[0m eta \u001b[36m0:00:00\u001b[0m\n",
            "\u001b[?25hRequirement already satisfied: opencv-python in /usr/local/lib/python3.11/dist-packages (4.11.0.86)\n",
            "Requirement already satisfied: numpy>=1.21.2 in /usr/local/lib/python3.11/dist-packages (from opencv-python) (2.0.2)\n",
            "Downloading yt_dlp-2025.6.25-py3-none-any.whl (3.3 MB)\n",
            "\u001b[2K   \u001b[90m━━━━━━━━━━━━━━━━━━━━━━━━━━━━━━━━━━━━━━━━\u001b[0m \u001b[32m3.3/3.3 MB\u001b[0m \u001b[31m26.5 MB/s\u001b[0m eta \u001b[36m0:00:00\u001b[0m\n",
            "\u001b[?25hInstalling collected packages: yt-dlp\n",
            "Successfully installed yt-dlp-2025.6.25\n"
          ]
        }
      ]
    },
    {
      "cell_type": "code",
      "source": [
        "import os\n",
        "import yt_dlp\n",
        "import cv2\n",
        "\n",
        "# Step 1: Define YouTube video URL (you can replace with any valid one)\n",
        "youtube_url = \"https://www.youtube.com/watch?v=5MgBikgcWnY\"  # Educational video\n",
        "\n",
        "# Step 2: Setup folders and paths\n",
        "video_folder = 'videos'\n",
        "os.makedirs(video_folder, exist_ok=True)\n",
        "downloaded_video_path = os.path.join(video_folder, 'downloaded_video.mp4')\n",
        "resized_video_path = os.path.join(video_folder, 'resized_video.avi')\n",
        "\n",
        "# Step 3: Download video using yt_dlp\n",
        "ydl_opts = {\n",
        "    'format': 'mp4',\n",
        "    'outtmpl': downloaded_video_path,\n",
        "    'quiet': False\n",
        "}\n",
        "\n",
        "print(\"📥 Downloading video...\")\n",
        "with yt_dlp.YoutubeDL(ydl_opts) as ydl:\n",
        "    ydl.download([youtube_url])\n",
        "print(\"✅ Download complete!\")\n",
        "\n",
        "# Step 4: Open video with OpenCV\n",
        "cap = cv2.VideoCapture(downloaded_video_path)\n",
        "if not cap.isOpened():\n",
        "    print(\"❌ Cannot open downloaded video.\")\n",
        "    exit()\n",
        "\n",
        "# Get original video properties\n",
        "fps = cap.get(cv2.CAP_PROP_FPS) or 24\n",
        "width = int(cap.get(cv2.CAP_PROP_FRAME_WIDTH))\n",
        "height = int(cap.get(cv2.CAP_PROP_FRAME_HEIGHT))\n",
        "\n",
        "# Calculate new dimensions (50% size)\n",
        "new_width = width // 2\n",
        "new_height = height // 2\n",
        "\n",
        "# Step 5: Setup VideoWriter to save resized video\n",
        "fourcc = cv2.VideoWriter_fourcc(*'XVID')\n",
        "out = cv2.VideoWriter(resized_video_path, fourcc, fps, (new_width, new_height))\n",
        "\n",
        "print(f\"🎞️ Resizing video from {width}x{height} to {new_width}x{new_height}...\")\n",
        "\n",
        "# Step 6: Process frames and resize\n",
        "while True:\n",
        "    ret, frame = cap.read()\n",
        "    if not ret:\n",
        "        break\n",
        "\n",
        "    resized_frame = cv2.resize(frame, (new_width, new_height), interpolation=cv2.INTER_AREA)\n",
        "    out.write(resized_frame)\n",
        "\n",
        "cap.release()\n",
        "out.release()\n",
        "\n",
        "print(f\"Resized video saved at: {resized_video_path}\")\n"
      ],
      "metadata": {
        "id": "jmnq8CufZr1M",
        "colab": {
          "base_uri": "https://localhost:8080/"
        },
        "outputId": "a0a23b4b-4347-4612-a083-a1329133ea59"
      },
      "execution_count": 2,
      "outputs": [
        {
          "output_type": "stream",
          "name": "stdout",
          "text": [
            "📥 Downloading video...\n",
            "[youtube] Extracting URL: https://www.youtube.com/watch?v=5MgBikgcWnY\n",
            "[youtube] 5MgBikgcWnY: Downloading webpage\n",
            "[youtube] 5MgBikgcWnY: Downloading tv client config\n",
            "[youtube] 5MgBikgcWnY: Downloading player a10d7fcc-main\n",
            "[youtube] 5MgBikgcWnY: Downloading tv player API JSON\n",
            "[youtube] 5MgBikgcWnY: Downloading ios player API JSON\n",
            "[youtube] 5MgBikgcWnY: Downloading m3u8 information\n",
            "[info] 5MgBikgcWnY: Downloading 1 format(s): 18\n",
            "[download] Destination: videos/downloaded_video.mp4\n",
            "[download] 100% of   36.22MiB in 00:00:01 at 26.85MiB/s  \n",
            "✅ Download complete!\n",
            "🎞️ Resizing video from 640x360 to 320x180...\n",
            "Resized video saved at: videos/resized_video.avi\n"
          ]
        }
      ]
    }
  ]
}